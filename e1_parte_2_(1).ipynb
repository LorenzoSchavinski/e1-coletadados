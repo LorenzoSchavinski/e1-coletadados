{
  "cells": [
    {
      "cell_type": "code",
      "execution_count": null,
      "id": "ff6f2bc4-81f3-48e2-9aee-d120e00a1a07",
      "metadata": {
        "scrolled": true,
        "id": "ff6f2bc4-81f3-48e2-9aee-d120e00a1a07"
      },
      "outputs": [],
      "source": [
        "import os\n",
        "import re\n",
        "import json\n",
        "from bs4 import BeautifulSoup\n",
        "\n",
        "\n",
        "pasta_paginas = \"wikipediapaginas\"\n",
        "\n",
        "pasta_saida = \"infobox_json\"\n",
        "os.makedirs(pasta_saida, exist_ok=True)\n",
        "\n",
        "def sanitizar_nome(nome, limite=100):\n",
        "    nome = re.sub(r'[\\\\/*?:\"<>|]', \"_\", nome)\n",
        "    return nome[:limite].strip()\n",
        "\n",
        "for arquivo in os.listdir(pasta_paginas):\n",
        "    if arquivo.endswith(\".html\"):\n",
        "        caminho_arquivo = os.path.join(pasta_paginas, arquivo)\n",
        "\n",
        "        with open(caminho_arquivo, \"r\", encoding=\"utf-8\") as file:\n",
        "            soup = BeautifulSoup(file, \"html.parser\")\n",
        "\n",
        "        infobox = soup.find(\"table\", class_=\"infobox\")\n",
        "        dados_infobox = {}\n",
        "\n",
        "        if infobox:\n",
        "            titulo_infobox = infobox.find(\"th\")\n",
        "            if titulo_infobox:\n",
        "                titulo = titulo_infobox.get_text(strip=True)\n",
        "            else:\n",
        "                titulo = arquivo.replace(\".html\", \"\")\n",
        "\n",
        "            titulo_arquivo_sanitizado = sanitizar_nome(titulo)\n",
        "\n",
        "            linhas = infobox.find_all(\"tr\")\n",
        "            for linha in linhas:\n",
        "                tds = linha.find_all(\"td\")\n",
        "                ths = linha.find_all(\"th\")\n",
        "\n",
        "                if len(tds) == 1 and ths:\n",
        "                    chave = ths[0].get_text(strip=True)\n",
        "                    valor = tds[0].get_text(separator=\", \", strip=True)\n",
        "                    dados_infobox[chave] = valor\n",
        "\n",
        "                elif len(tds) == 2:\n",
        "                    chave = tds[0].get_text(strip=True)\n",
        "                    td_valor = tds[1]\n",
        "\n",
        "                    itens_lista = td_valor.find_all(\"li\")\n",
        "                    if itens_lista:\n",
        "                        valor = [item.get_text(strip=True) for item in itens_lista]\n",
        "                    else:\n",
        "                        valor = td_valor.get_text(separator=\", \", strip=True)\n",
        "\n",
        "                    dados_infobox[chave] = valor\n",
        "\n",
        "\n",
        "            if dados_infobox:\n",
        "                caminho_json = os.path.join(pasta_saida, f\"{titulo_arquivo_sanitizado}.json\")\n",
        "\n",
        "                with open(caminho_json, \"w\", encoding=\"utf-8\") as json_file:\n",
        "                    json.dump(dados_infobox, json_file, ensure_ascii=False, indent=2)\n",
        "\n",
        "\n"
      ]
    },
    {
      "cell_type": "code",
      "execution_count": null,
      "id": "df88fff1-4f46-46cc-a2ef-ae7be434fdec",
      "metadata": {
        "id": "df88fff1-4f46-46cc-a2ef-ae7be434fdec"
      },
      "outputs": [],
      "source": []
    },
    {
      "cell_type": "code",
      "execution_count": null,
      "id": "2b76113e-c68b-4609-a076-18e51fa94f4a",
      "metadata": {
        "id": "2b76113e-c68b-4609-a076-18e51fa94f4a"
      },
      "outputs": [],
      "source": []
    }
  ],
  "metadata": {
    "kernelspec": {
      "display_name": "Python [conda env:base] *",
      "language": "python",
      "name": "conda-base-py"
    },
    "language_info": {
      "codemirror_mode": {
        "name": "ipython",
        "version": 3
      },
      "file_extension": ".py",
      "mimetype": "text/x-python",
      "name": "python",
      "nbconvert_exporter": "python",
      "pygments_lexer": "ipython3",
      "version": "3.12.7"
    },
    "colab": {
      "provenance": []
    }
  },
  "nbformat": 4,
  "nbformat_minor": 5
}