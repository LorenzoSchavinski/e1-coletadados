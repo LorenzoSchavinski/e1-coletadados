{
 "cells": [
  {
   "cell_type": "code",
   "execution_count": 51,
   "id": "6ad591ef-04bd-4602-8077-a6863232f7c1",
   "metadata": {},
   "outputs": [],
   "source": [
    "import requests\n",
    "from bs4 import BeautifulSoup\n",
    "import time\n",
    "import os\n",
    "import json\n",
    "import re"
   ]
  },
  {
   "cell_type": "code",
   "execution_count": 53,
   "id": "27e7c2ce-595c-4c8c-8568-f06deafae69f",
   "metadata": {},
   "outputs": [],
   "source": [
    "def salvarPagina(pagina):\n",
    "    response = requests.get(pagina)\n",
    "    soup = BeautifulSoup(response.content, \"html.parser\")\n",
    "    titulo = soup.select(\".mw-page-title-main\")\n",
    "    if not titulo:\n",
    "        nome_arquivo = pagina.split(\"/wiki/\")[-1].replace(\"_\", \" \")  \n",
    "    else:\n",
    "        nome_arquivo = sanitizar(titulo[0].text)\n",
    "\n",
    "\n",
    "    os.makedirs(\"wikipediapaginas\", exist_ok=True)\n",
    "    \n",
    "    with open(f\"wikipediapaginas/{nome_arquivo}.html\", \"w\", encoding=\"utf-8\") as g:\n",
    "        conteudo = response.content.decode(\"utf-8\")\n",
    "        g.write(conteudo)\n",
    "\n",
    "    return soup;"
   ]
  },
  {
   "cell_type": "code",
   "execution_count": 55,
   "id": "a9b8e223-1ffa-4de6-a37e-53362984ab48",
   "metadata": {},
   "outputs": [],
   "source": [
    "def sanitizar(nomearquivo):\n",
    "    invalido = r'[<>:\"/\\\\|?*\\x00-\\x1F]'\n",
    "    nomearquivo = re.sub(invalido,\"\", nomearquivo)\n",
    "    nomearquivo = nomearquivo.strip('. ')\n",
    "    return nomearquivo"
   ]
  },
  {
   "cell_type": "code",
   "execution_count": 57,
   "id": "6549dd61-4cfb-4731-841f-fa6e160724ba",
   "metadata": {},
   "outputs": [],
   "source": [
    "def adicionarLinks (linksAvisitar, novosLinks, linksVisitados):\n",
    "    if len(linksVisitados) >= 5000:\n",
    "        return True\n",
    "    else:\n",
    "        for a in novosLinks:\n",
    "            if a not in linksAvisitar and a not in linksVisitados:\n",
    "                linksAvisitar.append(a)\n",
    "\n",
    "    return False"
   ]
  },
  {
   "cell_type": "code",
   "execution_count": 59,
   "id": "ed691d03-8f62-45ac-8fc0-c0f285017828",
   "metadata": {},
   "outputs": [],
   "source": [
    "def visitarPagina(pagina, linksVisitados, linksAvisitar):\n",
    "    response = requests.get(pagina)\n",
    "    soup = salvarPagina(pagina)   #salva pagina\n",
    "    \n",
    "    todos_links = soup.find_all(\"a\")\n",
    "    novosLinks = []\n",
    "    for link in todos_links: #extrai e filtra os links\n",
    "        if \"href\" in link.attrs.keys() and link[\"href\"].startswith(\"/wiki/\"):\n",
    "            if link[\"href\"].find(\":\") != -1:\n",
    "                continue\n",
    "            \n",
    "            novosLinks.append(f\"https://pt.wikipedia.org{link['href']}\")\n",
    "            #print(links[-1])\n",
    "    \n",
    "    #print(f\"Encontrados {len(links)} links nesta página -- {len(set(links))}\")\n",
    "    \n",
    "    fimDoLoop = adicionarLinks(linksAvisitar, novosLinks, linksVisitados) #guarda na lista os novos links\n",
    "    \n",
    "    linksVisitados.append(pagina) #poem a pagina ja vistiada na lista de paginas ja visitadas\n",
    "    return fimDoLoop"
   ]
  },
  {
   "cell_type": "code",
   "execution_count": 61,
   "id": "35c03c08-cb96-4239-942b-3c42f73f6c01",
   "metadata": {},
   "outputs": [],
   "source": [
    "fimDoLoop = False\n",
    "pagina = \"https://pt.wikipedia.org/wiki/Wikip%C3%A9dia:P%C3%A1gina_principal\"\n",
    "linksAvisitar = []\n",
    "linksVisitados = []\n",
    "linksAvisitar.append(pagina)\n",
    "i=0\n",
    "while(fimDoLoop == False):\n",
    "    pagina = linksAvisitar[i]\n",
    "    fimDoLoop = visitarPagina(pagina, linksVisitados, linksAvisitar)\n",
    "    time.sleep(1)\n",
    "    i+=1"
   ]
  },
  {
   "cell_type": "code",
   "execution_count": null,
   "id": "16110edc-edc9-4056-9e54-2cafeed7fdc4",
   "metadata": {},
   "outputs": [],
   "source": []
  }
 ],
 "metadata": {
  "kernelspec": {
   "display_name": "Python [conda env:base] *",
   "language": "python",
   "name": "conda-base-py"
  },
  "language_info": {
   "codemirror_mode": {
    "name": "ipython",
    "version": 3
   },
   "file_extension": ".py",
   "mimetype": "text/x-python",
   "name": "python",
   "nbconvert_exporter": "python",
   "pygments_lexer": "ipython3",
   "version": "3.12.7"
  }
 },
 "nbformat": 4,
 "nbformat_minor": 5
}
